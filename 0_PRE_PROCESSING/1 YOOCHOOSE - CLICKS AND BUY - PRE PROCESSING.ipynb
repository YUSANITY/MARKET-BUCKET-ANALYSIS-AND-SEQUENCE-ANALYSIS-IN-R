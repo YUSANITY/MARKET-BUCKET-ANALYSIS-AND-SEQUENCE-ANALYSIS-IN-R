{
 "cells": [
  {
   "cell_type": "markdown",
   "metadata": {},
   "source": [
    "# ----------------------------------------------------------------------------------\n",
    "# **YOOCHOOSE- CLICKS AND BUY - PRE PROCESSING**\n",
    "# ----------------------------------------------------------------------------------"
   ]
  },
  {
   "cell_type": "markdown",
   "metadata": {},
   "source": [
    "###### Load Required Package "
   ]
  },
  {
   "cell_type": "code",
   "execution_count": 1,
   "metadata": {},
   "outputs": [],
   "source": [
    "import os\n",
    "import pandas as pd\n",
    "\n",
    "import warnings\n",
    "warnings.simplefilter('ignore')"
   ]
  },
  {
   "cell_type": "markdown",
   "metadata": {},
   "source": [
    "###### Define Working Path"
   ]
  },
  {
   "cell_type": "code",
   "execution_count": 2,
   "metadata": {},
   "outputs": [
    {
     "name": "stdout",
     "output_type": "stream",
     "text": [
      "/home/machine1/SANDY/web_analytics/CA1_py\n"
     ]
    }
   ],
   "source": [
    "path = os.getcwd()\n",
    "print (path)"
   ]
  },
  {
   "cell_type": "code",
   "execution_count": 3,
   "metadata": {},
   "outputs": [],
   "source": [
    "clicks_path = path+'/yoochoose-clicks.dat'\n",
    "buys_path   = path+'/yoochoose-buys.dat'\n",
    "test_path   = path+'/yoochoose-test.dat'\n",
    "\n",
    "clicks_spath = path+'/data/clicks_data.csv'\n",
    "buys_spath   = path+'/data/buys_data.csv'\n",
    "test_spath   = path+'/data/test_data.csv'"
   ]
  },
  {
   "cell_type": "code",
   "execution_count": 4,
   "metadata": {},
   "outputs": [],
   "source": [
    "dateparse = lambda x: pd.datetime.strptime(x, '%Y-%m-%dT%H:%M:%S')"
   ]
  },
  {
   "cell_type": "markdown",
   "metadata": {},
   "source": [
    "# ***Load Required Data***  \n",
    "#### CLICKS Dataset\n",
    "The file yoochoose-clicks.dat comprised the clicks of the users over the items.   \n",
    "Each record/line in the file has the following fields/format: >**Session ID** >**Timestamp** >**Item ID** >**Category**"
   ]
  },
  {
   "cell_type": "code",
   "execution_count": 5,
   "metadata": {},
   "outputs": [],
   "source": [
    "clicks_data = pd.read_csv( clicks_path,\n",
    "                           delimiter=',',\n",
    "                           header=None,\n",
    "                           names=['session_id', 'datetime', 'item_id', 'category'],\n",
    "                           dtype={'session_id':int, 'item_id':int, 'category':str},\n",
    "                           parse_dates=['datetime'],\n",
    "                           date_parser=dateparse).sort_values(by=['datetime','session_id'],ascending=True).reset_index(drop=True)"
   ]
  },
  {
   "cell_type": "markdown",
   "metadata": {},
   "source": [
    "Replace [Brand] category indentifiers with a digit 13 in catergory column   \n",
    "Replace [Special offer] Category indentifiers with a digit 14 in catergory column"
   ]
  },
  {
   "cell_type": "code",
   "execution_count": 6,
   "metadata": {},
   "outputs": [],
   "source": [
    "clicks_data.category[clicks_data.category.apply(len) > 2] = '13'\n",
    "clicks_data.category[clicks_data.category == 'S'] = '14'\n",
    "clicks_data['category'] = clicks_data['category'].astype('int')"
   ]
  },
  {
   "cell_type": "code",
   "execution_count": 7,
   "metadata": {},
   "outputs": [
    {
     "name": "stdout",
     "output_type": "stream",
     "text": [
      "----------------------------------------------------------\n",
      "Summary of the basic information about yoochoose-clicks data\n",
      "----------------------------------------------------------\n",
      "<class 'pandas.core.frame.DataFrame'>\n",
      "RangeIndex: 33003944 entries, 0 to 33003943\n",
      "Data columns (total 4 columns):\n",
      "session_id    int64\n",
      "datetime      datetime64[ns]\n",
      "item_id       int64\n",
      "category      int64\n",
      "dtypes: datetime64[ns](1), int64(3)\n",
      "memory usage: 1007.2 MB\n"
     ]
    }
   ],
   "source": [
    "print(\"----------------------------------------------------------\")\n",
    "print(\"Summary of the basic information about yoochoose-clicks data\")\n",
    "print(\"----------------------------------------------------------\")\n",
    "clicks_data.info()"
   ]
  },
  {
   "cell_type": "markdown",
   "metadata": {},
   "source": [
    "Remove duplicate records"
   ]
  },
  {
   "cell_type": "code",
   "execution_count": 8,
   "metadata": {},
   "outputs": [],
   "source": [
    "clicks_data = clicks_data.drop_duplicates(subset=['session_id',\"datetime\",\"item_id\",\"category\"],keep=\"last\").sort_values(by=['datetime','session_id'],ascending=True).reset_index(drop=True)"
   ]
  },
  {
   "cell_type": "markdown",
   "metadata": {},
   "source": [
    "Total number of records"
   ]
  },
  {
   "cell_type": "code",
   "execution_count": 9,
   "metadata": {},
   "outputs": [
    {
     "data": {
      "text/plain": [
       "33003876"
      ]
     },
     "execution_count": 9,
     "metadata": {},
     "output_type": "execute_result"
    }
   ],
   "source": [
    "len(clicks_data)"
   ]
  },
  {
   "cell_type": "markdown",
   "metadata": {},
   "source": [
    "Different type of categories"
   ]
  },
  {
   "cell_type": "code",
   "execution_count": 10,
   "metadata": {},
   "outputs": [
    {
     "data": {
      "text/plain": [
       "[0, 1, 2, 3, 4, 5, 6, 7, 8, 9, 10, 11, 12, 13, 14]"
      ]
     },
     "execution_count": 10,
     "metadata": {},
     "output_type": "execute_result"
    }
   ],
   "source": [
    "clicks_data.category.sort_values().unique().tolist()"
   ]
  },
  {
   "cell_type": "markdown",
   "metadata": {},
   "source": [
    "Total number of items"
   ]
  },
  {
   "cell_type": "code",
   "execution_count": 11,
   "metadata": {},
   "outputs": [
    {
     "data": {
      "text/plain": [
       "52739"
      ]
     },
     "execution_count": 11,
     "metadata": {},
     "output_type": "execute_result"
    }
   ],
   "source": [
    "len(clicks_data.item_id.sort_values().unique().tolist())"
   ]
  },
  {
   "cell_type": "markdown",
   "metadata": {},
   "source": [
    "Total number of unique sessions"
   ]
  },
  {
   "cell_type": "code",
   "execution_count": 12,
   "metadata": {},
   "outputs": [
    {
     "data": {
      "text/plain": [
       "9249729"
      ]
     },
     "execution_count": 12,
     "metadata": {},
     "output_type": "execute_result"
    }
   ],
   "source": [
    "len(clicks_data.session_id.sort_values().unique().tolist())"
   ]
  },
  {
   "cell_type": "code",
   "execution_count": 13,
   "metadata": {},
   "outputs": [
    {
     "data": {
      "text/html": [
       "<div>\n",
       "<style scoped>\n",
       "    .dataframe tbody tr th:only-of-type {\n",
       "        vertical-align: middle;\n",
       "    }\n",
       "\n",
       "    .dataframe tbody tr th {\n",
       "        vertical-align: top;\n",
       "    }\n",
       "\n",
       "    .dataframe thead th {\n",
       "        text-align: right;\n",
       "    }\n",
       "</style>\n",
       "<table border=\"1\" class=\"dataframe\">\n",
       "  <thead>\n",
       "    <tr style=\"text-align: right;\">\n",
       "      <th></th>\n",
       "      <th>session_id</th>\n",
       "      <th>datetime</th>\n",
       "      <th>item_id</th>\n",
       "      <th>category</th>\n",
       "    </tr>\n",
       "  </thead>\n",
       "  <tbody>\n",
       "    <tr>\n",
       "      <th>0</th>\n",
       "      <td>351646</td>\n",
       "      <td>2014-04-01 03:00:00.124</td>\n",
       "      <td>214717005</td>\n",
       "      <td>0</td>\n",
       "    </tr>\n",
       "    <tr>\n",
       "      <th>1</th>\n",
       "      <td>389654</td>\n",
       "      <td>2014-04-01 03:00:00.567</td>\n",
       "      <td>214826705</td>\n",
       "      <td>0</td>\n",
       "    </tr>\n",
       "    <tr>\n",
       "      <th>2</th>\n",
       "      <td>263073</td>\n",
       "      <td>2014-04-01 03:00:10.087</td>\n",
       "      <td>214716982</td>\n",
       "      <td>0</td>\n",
       "    </tr>\n",
       "    <tr>\n",
       "      <th>3</th>\n",
       "      <td>210798</td>\n",
       "      <td>2014-04-01 03:00:13.070</td>\n",
       "      <td>214581827</td>\n",
       "      <td>0</td>\n",
       "    </tr>\n",
       "    <tr>\n",
       "      <th>4</th>\n",
       "      <td>375257</td>\n",
       "      <td>2014-04-01 03:00:13.768</td>\n",
       "      <td>214644307</td>\n",
       "      <td>0</td>\n",
       "    </tr>\n",
       "  </tbody>\n",
       "</table>\n",
       "</div>"
      ],
      "text/plain": [
       "   session_id                datetime    item_id  category\n",
       "0      351646 2014-04-01 03:00:00.124  214717005         0\n",
       "1      389654 2014-04-01 03:00:00.567  214826705         0\n",
       "2      263073 2014-04-01 03:00:10.087  214716982         0\n",
       "3      210798 2014-04-01 03:00:13.070  214581827         0\n",
       "4      375257 2014-04-01 03:00:13.768  214644307         0"
      ]
     },
     "execution_count": 13,
     "metadata": {},
     "output_type": "execute_result"
    }
   ],
   "source": [
    "clicks_data.head()"
   ]
  },
  {
   "cell_type": "markdown",
   "metadata": {},
   "source": [
    "#### BUY Dataset\n",
    "The file yoochoose-buy.dat comprised the clicks of the users over the items.  \n",
    "Each record/line in the file has the following fields/format: >**Session ID** >**Timestamp** >**ItemID** >**Price** >**Quantity**"
   ]
  },
  {
   "cell_type": "code",
   "execution_count": 14,
   "metadata": {},
   "outputs": [],
   "source": [
    "buys_data = pd.read_csv( buys_path,\n",
    "                         delimiter=',',\n",
    "                         header=None,\n",
    "                         names=['session_id', 'datetime', 'item_id', 'price', 'quantity'],\n",
    "                         dtype={'session_id':int, 'item_id':int, 'price':int, 'quantity':int},\n",
    "                         parse_dates=['datetime'],\n",
    "                         date_parser=dateparse).sort_values(by=['datetime','session_id'],ascending=True).reset_index(drop=True)"
   ]
  },
  {
   "cell_type": "code",
   "execution_count": 15,
   "metadata": {},
   "outputs": [
    {
     "name": "stdout",
     "output_type": "stream",
     "text": [
      "<class 'pandas.core.frame.DataFrame'>\n",
      "RangeIndex: 1150753 entries, 0 to 1150752\n",
      "Data columns (total 5 columns):\n",
      "session_id    1150753 non-null int64\n",
      "datetime      1150753 non-null datetime64[ns]\n",
      "item_id       1150753 non-null int64\n",
      "price         1150753 non-null int64\n",
      "quantity      1150753 non-null int64\n",
      "dtypes: datetime64[ns](1), int64(4)\n",
      "memory usage: 43.9 MB\n"
     ]
    }
   ],
   "source": [
    "buys_data.info()"
   ]
  },
  {
   "cell_type": "markdown",
   "metadata": {},
   "source": [
    "Top five unique return by value in increasing Order. [Quantity] "
   ]
  },
  {
   "cell_type": "code",
   "execution_count": 16,
   "metadata": {},
   "outputs": [
    {
     "data": {
      "text/plain": [
       "[0, 1, 2, 3, 4]"
      ]
     },
     "execution_count": 16,
     "metadata": {},
     "output_type": "execute_result"
    }
   ],
   "source": [
    "buys_data.quantity.sort_values().unique()[0:5].tolist()"
   ]
  },
  {
   "cell_type": "markdown",
   "metadata": {},
   "source": [
    "Top five unique return by value in increasing Order.  [Price] "
   ]
  },
  {
   "cell_type": "code",
   "execution_count": 15,
   "metadata": {},
   "outputs": [
    {
     "data": {
      "text/plain": [
       "[0, 26, 37, 47, 51]"
      ]
     },
     "execution_count": 15,
     "metadata": {},
     "output_type": "execute_result"
    }
   ],
   "source": [
    "buys_data.price.sort_values().unique()[0:5].tolist()"
   ]
  },
  {
   "cell_type": "markdown",
   "metadata": {},
   "source": [
    "Transaction data contents [0] value quantity and [0] value price which maybe because of data collection error. Those rows should be remove because they are not useful for analysis. "
   ]
  },
  {
   "cell_type": "code",
   "execution_count": 18,
   "metadata": {},
   "outputs": [
    {
     "data": {
      "text/plain": [
       "540723"
      ]
     },
     "execution_count": 18,
     "metadata": {},
     "output_type": "execute_result"
    }
   ],
   "source": [
    "len(buys_data.loc[(buys_data['price'] != 0) & (buys_data['quantity'] != 0)])"
   ]
  },
  {
   "cell_type": "code",
   "execution_count": 19,
   "metadata": {},
   "outputs": [],
   "source": [
    "buys_data = buys_data.loc[(buys_data['price'] != 0) & (buys_data['quantity'] != 0)]"
   ]
  },
  {
   "cell_type": "code",
   "execution_count": 20,
   "metadata": {},
   "outputs": [],
   "source": [
    "buys_data = buys_data.sort_values(by=['datetime','session_id'],ascending=True).reset_index(drop=True)"
   ]
  },
  {
   "cell_type": "markdown",
   "metadata": {},
   "source": [
    "Remove duplicate records"
   ]
  },
  {
   "cell_type": "code",
   "execution_count": 21,
   "metadata": {},
   "outputs": [],
   "source": [
    "buys_data = buys_data.drop_duplicates(subset=['session_id',\"datetime\",\"item_id\",\"price\",\"quantity\"],keep=\"last\").sort_values(by=['datetime','session_id'],ascending=True).reset_index(drop=True)"
   ]
  },
  {
   "cell_type": "code",
   "execution_count": 22,
   "metadata": {},
   "outputs": [
    {
     "name": "stdout",
     "output_type": "stream",
     "text": [
      "<class 'pandas.core.frame.DataFrame'>\n",
      "RangeIndex: 540720 entries, 0 to 540719\n",
      "Data columns (total 5 columns):\n",
      "session_id    540720 non-null int64\n",
      "datetime      540720 non-null datetime64[ns]\n",
      "item_id       540720 non-null int64\n",
      "price         540720 non-null int64\n",
      "quantity      540720 non-null int64\n",
      "dtypes: datetime64[ns](1), int64(4)\n",
      "memory usage: 20.6 MB\n"
     ]
    }
   ],
   "source": [
    "buys_data.info()"
   ]
  },
  {
   "cell_type": "code",
   "execution_count": 23,
   "metadata": {},
   "outputs": [
    {
     "data": {
      "text/html": [
       "<div>\n",
       "<style scoped>\n",
       "    .dataframe tbody tr th:only-of-type {\n",
       "        vertical-align: middle;\n",
       "    }\n",
       "\n",
       "    .dataframe tbody tr th {\n",
       "        vertical-align: top;\n",
       "    }\n",
       "\n",
       "    .dataframe thead th {\n",
       "        text-align: right;\n",
       "    }\n",
       "</style>\n",
       "<table border=\"1\" class=\"dataframe\">\n",
       "  <thead>\n",
       "    <tr style=\"text-align: right;\">\n",
       "      <th></th>\n",
       "      <th>session_id</th>\n",
       "      <th>datetime</th>\n",
       "      <th>item_id</th>\n",
       "      <th>price</th>\n",
       "      <th>quantity</th>\n",
       "    </tr>\n",
       "  </thead>\n",
       "  <tbody>\n",
       "    <tr>\n",
       "      <th>0</th>\n",
       "      <td>263073</td>\n",
       "      <td>2014-04-01 03:05:31.743</td>\n",
       "      <td>214716982</td>\n",
       "      <td>2617</td>\n",
       "      <td>1</td>\n",
       "    </tr>\n",
       "    <tr>\n",
       "      <th>1</th>\n",
       "      <td>466654</td>\n",
       "      <td>2014-04-01 03:21:30.255</td>\n",
       "      <td>214820812</td>\n",
       "      <td>313</td>\n",
       "      <td>1</td>\n",
       "    </tr>\n",
       "    <tr>\n",
       "      <th>2</th>\n",
       "      <td>466654</td>\n",
       "      <td>2014-04-01 03:21:30.271</td>\n",
       "      <td>214584907</td>\n",
       "      <td>4711</td>\n",
       "      <td>1</td>\n",
       "    </tr>\n",
       "    <tr>\n",
       "      <th>3</th>\n",
       "      <td>185089</td>\n",
       "      <td>2014-04-01 03:29:09.230</td>\n",
       "      <td>214819376</td>\n",
       "      <td>418</td>\n",
       "      <td>1</td>\n",
       "    </tr>\n",
       "    <tr>\n",
       "      <th>4</th>\n",
       "      <td>185089</td>\n",
       "      <td>2014-04-01 03:29:09.280</td>\n",
       "      <td>214819430</td>\n",
       "      <td>418</td>\n",
       "      <td>1</td>\n",
       "    </tr>\n",
       "  </tbody>\n",
       "</table>\n",
       "</div>"
      ],
      "text/plain": [
       "   session_id                datetime    item_id  price  quantity\n",
       "0      263073 2014-04-01 03:05:31.743  214716982   2617         1\n",
       "1      466654 2014-04-01 03:21:30.255  214820812    313         1\n",
       "2      466654 2014-04-01 03:21:30.271  214584907   4711         1\n",
       "3      185089 2014-04-01 03:29:09.230  214819376    418         1\n",
       "4      185089 2014-04-01 03:29:09.280  214819430    418         1"
      ]
     },
     "execution_count": 23,
     "metadata": {},
     "output_type": "execute_result"
    }
   ],
   "source": [
    "buys_data.head()"
   ]
  },
  {
   "cell_type": "markdown",
   "metadata": {},
   "source": [
    "#### BUY merge CLICK Dataset\n",
    "We merged click data with click dataset on session id and item id.   \n",
    "Each record/line in the file has the following fields/format: >**x.Session ID** >**x.Timestamp** >**x.ItemID** >**x.Price** >**x.Quantity** >**y.Date time** >>**y.category**  \n",
    "We then sort the click colunm time stamp in decreasing order. "
   ]
  },
  {
   "cell_type": "code",
   "execution_count": 69,
   "metadata": {},
   "outputs": [],
   "source": [
    "merge_data = pd.merge( buys_data, clicks_data,\n",
    "                       how='left',on=['session_id','item_id'])"
   ]
  },
  {
   "cell_type": "code",
   "execution_count": 70,
   "metadata": {},
   "outputs": [
    {
     "data": {
      "text/html": [
       "<div>\n",
       "<style scoped>\n",
       "    .dataframe tbody tr th:only-of-type {\n",
       "        vertical-align: middle;\n",
       "    }\n",
       "\n",
       "    .dataframe tbody tr th {\n",
       "        vertical-align: top;\n",
       "    }\n",
       "\n",
       "    .dataframe thead th {\n",
       "        text-align: right;\n",
       "    }\n",
       "</style>\n",
       "<table border=\"1\" class=\"dataframe\">\n",
       "  <thead>\n",
       "    <tr style=\"text-align: right;\">\n",
       "      <th></th>\n",
       "      <th>session_id</th>\n",
       "      <th>datetime_x</th>\n",
       "      <th>item_id</th>\n",
       "      <th>price</th>\n",
       "      <th>quantity</th>\n",
       "      <th>datetime_y</th>\n",
       "      <th>category</th>\n",
       "    </tr>\n",
       "  </thead>\n",
       "  <tbody>\n",
       "    <tr>\n",
       "      <th>0</th>\n",
       "      <td>263073</td>\n",
       "      <td>2014-04-01 03:05:31.743</td>\n",
       "      <td>214716982</td>\n",
       "      <td>2617</td>\n",
       "      <td>1</td>\n",
       "      <td>2014-04-01 03:00:10.087</td>\n",
       "      <td>0</td>\n",
       "    </tr>\n",
       "    <tr>\n",
       "      <th>1</th>\n",
       "      <td>263073</td>\n",
       "      <td>2014-04-01 03:05:31.743</td>\n",
       "      <td>214716982</td>\n",
       "      <td>2617</td>\n",
       "      <td>1</td>\n",
       "      <td>2014-04-01 03:01:07.619</td>\n",
       "      <td>0</td>\n",
       "    </tr>\n",
       "    <tr>\n",
       "      <th>2</th>\n",
       "      <td>263073</td>\n",
       "      <td>2014-04-01 03:05:31.743</td>\n",
       "      <td>214716982</td>\n",
       "      <td>2617</td>\n",
       "      <td>1</td>\n",
       "      <td>2014-04-01 03:01:42.898</td>\n",
       "      <td>0</td>\n",
       "    </tr>\n",
       "    <tr>\n",
       "      <th>3</th>\n",
       "      <td>466654</td>\n",
       "      <td>2014-04-01 03:21:30.255</td>\n",
       "      <td>214820812</td>\n",
       "      <td>313</td>\n",
       "      <td>1</td>\n",
       "      <td>2014-04-01 03:14:00.623</td>\n",
       "      <td>0</td>\n",
       "    </tr>\n",
       "    <tr>\n",
       "      <th>4</th>\n",
       "      <td>466654</td>\n",
       "      <td>2014-04-01 03:21:30.271</td>\n",
       "      <td>214584907</td>\n",
       "      <td>4711</td>\n",
       "      <td>1</td>\n",
       "      <td>2014-04-01 03:06:12.148</td>\n",
       "      <td>0</td>\n",
       "    </tr>\n",
       "  </tbody>\n",
       "</table>\n",
       "</div>"
      ],
      "text/plain": [
       "   session_id              datetime_x    item_id  price  quantity  \\\n",
       "0      263073 2014-04-01 03:05:31.743  214716982   2617         1   \n",
       "1      263073 2014-04-01 03:05:31.743  214716982   2617         1   \n",
       "2      263073 2014-04-01 03:05:31.743  214716982   2617         1   \n",
       "3      466654 2014-04-01 03:21:30.255  214820812    313         1   \n",
       "4      466654 2014-04-01 03:21:30.271  214584907   4711         1   \n",
       "\n",
       "               datetime_y  category  \n",
       "0 2014-04-01 03:00:10.087         0  \n",
       "1 2014-04-01 03:01:07.619         0  \n",
       "2 2014-04-01 03:01:42.898         0  \n",
       "3 2014-04-01 03:14:00.623         0  \n",
       "4 2014-04-01 03:06:12.148         0  "
      ]
     },
     "execution_count": 70,
     "metadata": {},
     "output_type": "execute_result"
    }
   ],
   "source": [
    "merge_data.head()"
   ]
  },
  {
   "cell_type": "code",
   "execution_count": 71,
   "metadata": {},
   "outputs": [
    {
     "name": "stdout",
     "output_type": "stream",
     "text": [
      "<class 'pandas.core.frame.DataFrame'>\n",
      "Int64Index: 1042208 entries, 0 to 1042207\n",
      "Data columns (total 7 columns):\n",
      "session_id    1042208 non-null int64\n",
      "datetime_x    1042208 non-null datetime64[ns]\n",
      "item_id       1042208 non-null int64\n",
      "price         1042208 non-null int64\n",
      "quantity      1042208 non-null int64\n",
      "datetime_y    1042208 non-null datetime64[ns]\n",
      "category      1042208 non-null int64\n",
      "dtypes: datetime64[ns](2), int64(5)\n",
      "memory usage: 63.6 MB\n"
     ]
    }
   ],
   "source": [
    "merge_data.info()"
   ]
  },
  {
   "cell_type": "code",
   "execution_count": 72,
   "metadata": {},
   "outputs": [],
   "source": [
    "buys_click_data = merge_data.drop_duplicates(subset=['session_id',\"datetime_x\",\"item_id\",\"price\",\"quantity\"],keep=\"last\").sort_values(by=['datetime_x','session_id'],ascending=True).reset_index(drop=True)"
   ]
  },
  {
   "cell_type": "code",
   "execution_count": 73,
   "metadata": {},
   "outputs": [
    {
     "data": {
      "text/html": [
       "<div>\n",
       "<style scoped>\n",
       "    .dataframe tbody tr th:only-of-type {\n",
       "        vertical-align: middle;\n",
       "    }\n",
       "\n",
       "    .dataframe tbody tr th {\n",
       "        vertical-align: top;\n",
       "    }\n",
       "\n",
       "    .dataframe thead th {\n",
       "        text-align: right;\n",
       "    }\n",
       "</style>\n",
       "<table border=\"1\" class=\"dataframe\">\n",
       "  <thead>\n",
       "    <tr style=\"text-align: right;\">\n",
       "      <th></th>\n",
       "      <th>session_id</th>\n",
       "      <th>datetime_x</th>\n",
       "      <th>item_id</th>\n",
       "      <th>price</th>\n",
       "      <th>quantity</th>\n",
       "      <th>datetime_y</th>\n",
       "      <th>category</th>\n",
       "    </tr>\n",
       "  </thead>\n",
       "  <tbody>\n",
       "    <tr>\n",
       "      <th>0</th>\n",
       "      <td>263073</td>\n",
       "      <td>2014-04-01 03:05:31.743</td>\n",
       "      <td>214716982</td>\n",
       "      <td>2617</td>\n",
       "      <td>1</td>\n",
       "      <td>2014-04-01 03:01:42.898</td>\n",
       "      <td>0</td>\n",
       "    </tr>\n",
       "    <tr>\n",
       "      <th>1</th>\n",
       "      <td>466654</td>\n",
       "      <td>2014-04-01 03:21:30.255</td>\n",
       "      <td>214820812</td>\n",
       "      <td>313</td>\n",
       "      <td>1</td>\n",
       "      <td>2014-04-01 03:14:00.623</td>\n",
       "      <td>0</td>\n",
       "    </tr>\n",
       "    <tr>\n",
       "      <th>2</th>\n",
       "      <td>466654</td>\n",
       "      <td>2014-04-01 03:21:30.271</td>\n",
       "      <td>214584907</td>\n",
       "      <td>4711</td>\n",
       "      <td>1</td>\n",
       "      <td>2014-04-01 03:07:51.197</td>\n",
       "      <td>0</td>\n",
       "    </tr>\n",
       "    <tr>\n",
       "      <th>3</th>\n",
       "      <td>185089</td>\n",
       "      <td>2014-04-01 03:29:09.230</td>\n",
       "      <td>214819376</td>\n",
       "      <td>418</td>\n",
       "      <td>1</td>\n",
       "      <td>2014-04-01 03:05:00.662</td>\n",
       "      <td>0</td>\n",
       "    </tr>\n",
       "    <tr>\n",
       "      <th>4</th>\n",
       "      <td>185089</td>\n",
       "      <td>2014-04-01 03:29:09.280</td>\n",
       "      <td>214819430</td>\n",
       "      <td>418</td>\n",
       "      <td>1</td>\n",
       "      <td>2014-04-01 03:09:23.205</td>\n",
       "      <td>0</td>\n",
       "    </tr>\n",
       "  </tbody>\n",
       "</table>\n",
       "</div>"
      ],
      "text/plain": [
       "   session_id              datetime_x    item_id  price  quantity  \\\n",
       "0      263073 2014-04-01 03:05:31.743  214716982   2617         1   \n",
       "1      466654 2014-04-01 03:21:30.255  214820812    313         1   \n",
       "2      466654 2014-04-01 03:21:30.271  214584907   4711         1   \n",
       "3      185089 2014-04-01 03:29:09.230  214819376    418         1   \n",
       "4      185089 2014-04-01 03:29:09.280  214819430    418         1   \n",
       "\n",
       "               datetime_y  category  \n",
       "0 2014-04-01 03:01:42.898         0  \n",
       "1 2014-04-01 03:14:00.623         0  \n",
       "2 2014-04-01 03:07:51.197         0  \n",
       "3 2014-04-01 03:05:00.662         0  \n",
       "4 2014-04-01 03:09:23.205         0  "
      ]
     },
     "execution_count": 73,
     "metadata": {},
     "output_type": "execute_result"
    }
   ],
   "source": [
    "buys_click_data.head()"
   ]
  },
  {
   "cell_type": "code",
   "execution_count": 74,
   "metadata": {},
   "outputs": [
    {
     "name": "stdout",
     "output_type": "stream",
     "text": [
      "<class 'pandas.core.frame.DataFrame'>\n",
      "RangeIndex: 540720 entries, 0 to 540719\n",
      "Data columns (total 7 columns):\n",
      "session_id    540720 non-null int64\n",
      "datetime_x    540720 non-null datetime64[ns]\n",
      "item_id       540720 non-null int64\n",
      "price         540720 non-null int64\n",
      "quantity      540720 non-null int64\n",
      "datetime_y    540720 non-null datetime64[ns]\n",
      "category      540720 non-null int64\n",
      "dtypes: datetime64[ns](2), int64(5)\n",
      "memory usage: 28.9 MB\n"
     ]
    }
   ],
   "source": [
    "buys_click_data.info()"
   ]
  },
  {
   "cell_type": "markdown",
   "metadata": {},
   "source": [
    "#### Test (Click) Dataset\n",
    "The file yoochoose-test.dat comprised the clicks of the users over the items.   \n",
    "Each record/line in the file has the following fields/format: >**Session ID** >**Timestamp** >**Item ID** >**Category**"
   ]
  },
  {
   "cell_type": "code",
   "execution_count": 30,
   "metadata": {},
   "outputs": [],
   "source": [
    "test_data = pd.read_csv(   test_path,\n",
    "                           delimiter=',',\n",
    "                           header=None,\n",
    "                           names=['session_id', 'datetime', 'item_id', 'category'],\n",
    "                           dtype={'session_id':int, 'item_id':int, 'category':str},\n",
    "                           parse_dates=['datetime'],\n",
    "                           date_parser=dateparse).sort_values(by=['datetime','session_id'],ascending=True).reset_index(drop=True)"
   ]
  },
  {
   "cell_type": "code",
   "execution_count": 31,
   "metadata": {},
   "outputs": [],
   "source": [
    "#Replace [Brand] category indentifiers with a digit 13 in catergory column\n",
    "test_data.category[test_data.category.apply(len) > 2] = '13'\n",
    "#Replace [Special offer] Category indentifiers with a digit 14 in catergory column\n",
    "test_data.category[test_data.category == 'S'] = '14'\n",
    "test_data['category'] = test_data['category'].astype('int')"
   ]
  },
  {
   "cell_type": "code",
   "execution_count": 32,
   "metadata": {},
   "outputs": [
    {
     "name": "stdout",
     "output_type": "stream",
     "text": [
      "<class 'pandas.core.frame.DataFrame'>\n",
      "RangeIndex: 8251791 entries, 0 to 8251790\n",
      "Data columns (total 4 columns):\n",
      "session_id    int64\n",
      "datetime      datetime64[ns]\n",
      "item_id       int64\n",
      "category      int64\n",
      "dtypes: datetime64[ns](1), int64(3)\n",
      "memory usage: 251.8 MB\n"
     ]
    }
   ],
   "source": [
    "test_data.info()"
   ]
  },
  {
   "cell_type": "markdown",
   "metadata": {},
   "source": [
    "Remove duplicate records"
   ]
  },
  {
   "cell_type": "code",
   "execution_count": 34,
   "metadata": {},
   "outputs": [
    {
     "data": {
      "text/plain": [
       "8251778"
      ]
     },
     "execution_count": 34,
     "metadata": {},
     "output_type": "execute_result"
    }
   ],
   "source": [
    "test_data = test_data.drop_duplicates(subset=['session_id',\"datetime\",\"item_id\",\"category\"],keep=\"last\").sort_values(by=['datetime','session_id'],ascending=True).reset_index(drop=True)\n",
    "len(test_data)"
   ]
  },
  {
   "cell_type": "markdown",
   "metadata": {},
   "source": [
    "List all categories "
   ]
  },
  {
   "cell_type": "code",
   "execution_count": 35,
   "metadata": {},
   "outputs": [
    {
     "data": {
      "text/plain": [
       "[0, 1, 2, 3, 4, 5, 6, 7, 8, 9, 10, 11, 12, 13, 14]"
      ]
     },
     "execution_count": 35,
     "metadata": {},
     "output_type": "execute_result"
    }
   ],
   "source": [
    "test_data.category.sort_values().unique().tolist()"
   ]
  },
  {
   "cell_type": "markdown",
   "metadata": {},
   "source": [
    "Total number of items"
   ]
  },
  {
   "cell_type": "code",
   "execution_count": 36,
   "metadata": {},
   "outputs": [
    {
     "data": {
      "text/plain": [
       "42155"
      ]
     },
     "execution_count": 36,
     "metadata": {},
     "output_type": "execute_result"
    }
   ],
   "source": [
    "len(test_data.item_id.sort_values().unique().tolist())"
   ]
  },
  {
   "cell_type": "markdown",
   "metadata": {},
   "source": [
    "Total number of unique session"
   ]
  },
  {
   "cell_type": "code",
   "execution_count": 37,
   "metadata": {},
   "outputs": [
    {
     "data": {
      "text/plain": [
       "2312432"
      ]
     },
     "execution_count": 37,
     "metadata": {},
     "output_type": "execute_result"
    }
   ],
   "source": [
    "len(test_data.session_id.sort_values().unique().tolist())"
   ]
  },
  {
   "cell_type": "code",
   "execution_count": 38,
   "metadata": {},
   "outputs": [
    {
     "name": "stdout",
     "output_type": "stream",
     "text": [
      "----------------------------------------------------------\n",
      "Summary of the basic information about yoochoose-test data\n",
      "----------------------------------------------------------\n",
      "<class 'pandas.core.frame.DataFrame'>\n",
      "RangeIndex: 8251778 entries, 0 to 8251777\n",
      "Data columns (total 4 columns):\n",
      "session_id    int64\n",
      "datetime      datetime64[ns]\n",
      "item_id       int64\n",
      "category      int64\n",
      "dtypes: datetime64[ns](1), int64(3)\n",
      "memory usage: 251.8 MB\n"
     ]
    }
   ],
   "source": [
    "print(\"----------------------------------------------------------\")\n",
    "print(\"Summary of the basic information about yoochoose-test data\")\n",
    "print(\"----------------------------------------------------------\")\n",
    "test_data.info()"
   ]
  },
  {
   "cell_type": "code",
   "execution_count": 39,
   "metadata": {},
   "outputs": [
    {
     "data": {
      "text/html": [
       "<div>\n",
       "<style scoped>\n",
       "    .dataframe tbody tr th:only-of-type {\n",
       "        vertical-align: middle;\n",
       "    }\n",
       "\n",
       "    .dataframe tbody tr th {\n",
       "        vertical-align: top;\n",
       "    }\n",
       "\n",
       "    .dataframe thead th {\n",
       "        text-align: right;\n",
       "    }\n",
       "</style>\n",
       "<table border=\"1\" class=\"dataframe\">\n",
       "  <thead>\n",
       "    <tr style=\"text-align: right;\">\n",
       "      <th></th>\n",
       "      <th>session_id</th>\n",
       "      <th>datetime</th>\n",
       "      <th>item_id</th>\n",
       "      <th>category</th>\n",
       "    </tr>\n",
       "  </thead>\n",
       "  <tbody>\n",
       "    <tr>\n",
       "      <th>0</th>\n",
       "      <td>23675</td>\n",
       "      <td>2014-04-01 03:00:08.250</td>\n",
       "      <td>214842345</td>\n",
       "      <td>0</td>\n",
       "    </tr>\n",
       "    <tr>\n",
       "      <th>1</th>\n",
       "      <td>123545</td>\n",
       "      <td>2014-04-01 03:00:17.603</td>\n",
       "      <td>214717003</td>\n",
       "      <td>0</td>\n",
       "    </tr>\n",
       "    <tr>\n",
       "      <th>2</th>\n",
       "      <td>23675</td>\n",
       "      <td>2014-04-01 03:00:31.643</td>\n",
       "      <td>214639372</td>\n",
       "      <td>0</td>\n",
       "    </tr>\n",
       "    <tr>\n",
       "      <th>3</th>\n",
       "      <td>40525</td>\n",
       "      <td>2014-04-01 03:00:32.008</td>\n",
       "      <td>214684320</td>\n",
       "      <td>0</td>\n",
       "    </tr>\n",
       "    <tr>\n",
       "      <th>4</th>\n",
       "      <td>23675</td>\n",
       "      <td>2014-04-01 03:00:44.712</td>\n",
       "      <td>214591470</td>\n",
       "      <td>0</td>\n",
       "    </tr>\n",
       "  </tbody>\n",
       "</table>\n",
       "</div>"
      ],
      "text/plain": [
       "   session_id                datetime    item_id  category\n",
       "0       23675 2014-04-01 03:00:08.250  214842345         0\n",
       "1      123545 2014-04-01 03:00:17.603  214717003         0\n",
       "2       23675 2014-04-01 03:00:31.643  214639372         0\n",
       "3       40525 2014-04-01 03:00:32.008  214684320         0\n",
       "4       23675 2014-04-01 03:00:44.712  214591470         0"
      ]
     },
     "execution_count": 39,
     "metadata": {},
     "output_type": "execute_result"
    }
   ],
   "source": [
    "test_data.head()"
   ]
  },
  {
   "cell_type": "markdown",
   "metadata": {},
   "source": [
    "# Export datasets to csv "
   ]
  },
  {
   "cell_type": "code",
   "execution_count": 42,
   "metadata": {},
   "outputs": [],
   "source": [
    "clicks_data.to_csv(clicks_spath, encoding='utf-8', index=False)\n",
    "buys_data.to_csv(buys_spath, encoding='utf-8', index=False)\n",
    "test_data.to_csv(test_spath, encoding='utf-8', index=False)"
   ]
  },
  {
   "cell_type": "code",
   "execution_count": 44,
   "metadata": {},
   "outputs": [],
   "source": [
    "bc_spath = path+'/data/buys_click_data.csv'\n",
    "buys_click_data.to_csv(bc_spath, encoding='utf-8', index=False)"
   ]
  },
  {
   "cell_type": "markdown",
   "metadata": {},
   "source": [
    "# -------------------------------------------------------------"
   ]
  },
  {
   "cell_type": "code",
   "execution_count": 76,
   "metadata": {},
   "outputs": [
    {
     "data": {
      "text/html": [
       "<div>\n",
       "<style scoped>\n",
       "    .dataframe tbody tr th:only-of-type {\n",
       "        vertical-align: middle;\n",
       "    }\n",
       "\n",
       "    .dataframe tbody tr th {\n",
       "        vertical-align: top;\n",
       "    }\n",
       "\n",
       "    .dataframe thead th {\n",
       "        text-align: right;\n",
       "    }\n",
       "</style>\n",
       "<table border=\"1\" class=\"dataframe\">\n",
       "  <thead>\n",
       "    <tr style=\"text-align: right;\">\n",
       "      <th></th>\n",
       "      <th>session_id</th>\n",
       "      <th>datetime_x</th>\n",
       "      <th>item_id</th>\n",
       "      <th>price</th>\n",
       "      <th>quantity</th>\n",
       "      <th>datetime_y</th>\n",
       "      <th>category</th>\n",
       "    </tr>\n",
       "  </thead>\n",
       "  <tbody>\n",
       "    <tr>\n",
       "      <th>0</th>\n",
       "      <td>263073</td>\n",
       "      <td>2014-04-01 03:05:31.743</td>\n",
       "      <td>214716982</td>\n",
       "      <td>2617</td>\n",
       "      <td>1</td>\n",
       "      <td>2014-04-01 03:01:42.898</td>\n",
       "      <td>0</td>\n",
       "    </tr>\n",
       "    <tr>\n",
       "      <th>1</th>\n",
       "      <td>466654</td>\n",
       "      <td>2014-04-01 03:21:30.255</td>\n",
       "      <td>214820812</td>\n",
       "      <td>313</td>\n",
       "      <td>1</td>\n",
       "      <td>2014-04-01 03:14:00.623</td>\n",
       "      <td>0</td>\n",
       "    </tr>\n",
       "    <tr>\n",
       "      <th>2</th>\n",
       "      <td>466654</td>\n",
       "      <td>2014-04-01 03:21:30.271</td>\n",
       "      <td>214584907</td>\n",
       "      <td>4711</td>\n",
       "      <td>1</td>\n",
       "      <td>2014-04-01 03:07:51.197</td>\n",
       "      <td>0</td>\n",
       "    </tr>\n",
       "    <tr>\n",
       "      <th>3</th>\n",
       "      <td>185089</td>\n",
       "      <td>2014-04-01 03:29:09.230</td>\n",
       "      <td>214819376</td>\n",
       "      <td>418</td>\n",
       "      <td>1</td>\n",
       "      <td>2014-04-01 03:05:00.662</td>\n",
       "      <td>0</td>\n",
       "    </tr>\n",
       "    <tr>\n",
       "      <th>4</th>\n",
       "      <td>185089</td>\n",
       "      <td>2014-04-01 03:29:09.280</td>\n",
       "      <td>214819430</td>\n",
       "      <td>418</td>\n",
       "      <td>1</td>\n",
       "      <td>2014-04-01 03:09:23.205</td>\n",
       "      <td>0</td>\n",
       "    </tr>\n",
       "  </tbody>\n",
       "</table>\n",
       "</div>"
      ],
      "text/plain": [
       "   session_id              datetime_x    item_id  price  quantity  \\\n",
       "0      263073 2014-04-01 03:05:31.743  214716982   2617         1   \n",
       "1      466654 2014-04-01 03:21:30.255  214820812    313         1   \n",
       "2      466654 2014-04-01 03:21:30.271  214584907   4711         1   \n",
       "3      185089 2014-04-01 03:29:09.230  214819376    418         1   \n",
       "4      185089 2014-04-01 03:29:09.280  214819430    418         1   \n",
       "\n",
       "               datetime_y  category  \n",
       "0 2014-04-01 03:01:42.898         0  \n",
       "1 2014-04-01 03:14:00.623         0  \n",
       "2 2014-04-01 03:07:51.197         0  \n",
       "3 2014-04-01 03:05:00.662         0  \n",
       "4 2014-04-01 03:09:23.205         0  "
      ]
     },
     "execution_count": 76,
     "metadata": {},
     "output_type": "execute_result"
    }
   ],
   "source": [
    "buys_click_data.head()"
   ]
  },
  {
   "cell_type": "code",
   "execution_count": 77,
   "metadata": {},
   "outputs": [],
   "source": [
    "buys_click_data_tran = buys_click_data.ix[:,[0,5,2,6]]"
   ]
  },
  {
   "cell_type": "code",
   "execution_count": 79,
   "metadata": {},
   "outputs": [],
   "source": [
    "buys_click_data_tran = buys_click_data_tran.sort_values(by=['datetime_y','session_id'],ascending=True).reset_index(drop=True)"
   ]
  },
  {
   "cell_type": "code",
   "execution_count": 80,
   "metadata": {},
   "outputs": [
    {
     "data": {
      "text/html": [
       "<div>\n",
       "<style scoped>\n",
       "    .dataframe tbody tr th:only-of-type {\n",
       "        vertical-align: middle;\n",
       "    }\n",
       "\n",
       "    .dataframe tbody tr th {\n",
       "        vertical-align: top;\n",
       "    }\n",
       "\n",
       "    .dataframe thead th {\n",
       "        text-align: right;\n",
       "    }\n",
       "</style>\n",
       "<table border=\"1\" class=\"dataframe\">\n",
       "  <thead>\n",
       "    <tr style=\"text-align: right;\">\n",
       "      <th></th>\n",
       "      <th>session_id</th>\n",
       "      <th>datetime_y</th>\n",
       "      <th>item_id</th>\n",
       "      <th>category</th>\n",
       "    </tr>\n",
       "  </thead>\n",
       "  <tbody>\n",
       "    <tr>\n",
       "      <th>0</th>\n",
       "      <td>263073</td>\n",
       "      <td>2014-04-01 03:01:42.898</td>\n",
       "      <td>214716982</td>\n",
       "      <td>0</td>\n",
       "    </tr>\n",
       "    <tr>\n",
       "      <th>1</th>\n",
       "      <td>185089</td>\n",
       "      <td>2014-04-01 03:05:00.662</td>\n",
       "      <td>214819376</td>\n",
       "      <td>0</td>\n",
       "    </tr>\n",
       "    <tr>\n",
       "      <th>2</th>\n",
       "      <td>185089</td>\n",
       "      <td>2014-04-01 03:07:12.199</td>\n",
       "      <td>214716667</td>\n",
       "      <td>0</td>\n",
       "    </tr>\n",
       "    <tr>\n",
       "      <th>3</th>\n",
       "      <td>466654</td>\n",
       "      <td>2014-04-01 03:07:51.197</td>\n",
       "      <td>214584907</td>\n",
       "      <td>0</td>\n",
       "    </tr>\n",
       "    <tr>\n",
       "      <th>4</th>\n",
       "      <td>185089</td>\n",
       "      <td>2014-04-01 03:09:23.205</td>\n",
       "      <td>214819430</td>\n",
       "      <td>0</td>\n",
       "    </tr>\n",
       "  </tbody>\n",
       "</table>\n",
       "</div>"
      ],
      "text/plain": [
       "   session_id              datetime_y    item_id  category\n",
       "0      263073 2014-04-01 03:01:42.898  214716982         0\n",
       "1      185089 2014-04-01 03:05:00.662  214819376         0\n",
       "2      185089 2014-04-01 03:07:12.199  214716667         0\n",
       "3      466654 2014-04-01 03:07:51.197  214584907         0\n",
       "4      185089 2014-04-01 03:09:23.205  214819430         0"
      ]
     },
     "execution_count": 80,
     "metadata": {},
     "output_type": "execute_result"
    }
   ],
   "source": [
    "buys_click_data_tran.head()"
   ]
  },
  {
   "cell_type": "code",
   "execution_count": 81,
   "metadata": {},
   "outputs": [],
   "source": [
    "tran_spath = path+'/data/buys_click_data_tran.csv'"
   ]
  },
  {
   "cell_type": "code",
   "execution_count": 82,
   "metadata": {},
   "outputs": [],
   "source": [
    "buys_click_data_tran.to_csv(tran_spath, encoding='utf-8', index=False)"
   ]
  },
  {
   "cell_type": "code",
   "execution_count": 85,
   "metadata": {},
   "outputs": [],
   "source": [
    "buys_click_data_tran3 = buys_click_data.ix[:,[0,1,2]]\n",
    "buys_click_data_tran3 = buys_click_data_tran3.sort_values(by=['datetime_x','session_id'],ascending=True).reset_index(drop=True)"
   ]
  },
  {
   "cell_type": "code",
   "execution_count": 86,
   "metadata": {},
   "outputs": [
    {
     "data": {
      "text/html": [
       "<div>\n",
       "<style scoped>\n",
       "    .dataframe tbody tr th:only-of-type {\n",
       "        vertical-align: middle;\n",
       "    }\n",
       "\n",
       "    .dataframe tbody tr th {\n",
       "        vertical-align: top;\n",
       "    }\n",
       "\n",
       "    .dataframe thead th {\n",
       "        text-align: right;\n",
       "    }\n",
       "</style>\n",
       "<table border=\"1\" class=\"dataframe\">\n",
       "  <thead>\n",
       "    <tr style=\"text-align: right;\">\n",
       "      <th></th>\n",
       "      <th>session_id</th>\n",
       "      <th>datetime_x</th>\n",
       "      <th>item_id</th>\n",
       "    </tr>\n",
       "  </thead>\n",
       "  <tbody>\n",
       "    <tr>\n",
       "      <th>0</th>\n",
       "      <td>263073</td>\n",
       "      <td>2014-04-01 03:05:31.743</td>\n",
       "      <td>214716982</td>\n",
       "    </tr>\n",
       "    <tr>\n",
       "      <th>1</th>\n",
       "      <td>466654</td>\n",
       "      <td>2014-04-01 03:21:30.255</td>\n",
       "      <td>214820812</td>\n",
       "    </tr>\n",
       "    <tr>\n",
       "      <th>2</th>\n",
       "      <td>466654</td>\n",
       "      <td>2014-04-01 03:21:30.271</td>\n",
       "      <td>214584907</td>\n",
       "    </tr>\n",
       "    <tr>\n",
       "      <th>3</th>\n",
       "      <td>185089</td>\n",
       "      <td>2014-04-01 03:29:09.230</td>\n",
       "      <td>214819376</td>\n",
       "    </tr>\n",
       "    <tr>\n",
       "      <th>4</th>\n",
       "      <td>185089</td>\n",
       "      <td>2014-04-01 03:29:09.280</td>\n",
       "      <td>214819430</td>\n",
       "    </tr>\n",
       "  </tbody>\n",
       "</table>\n",
       "</div>"
      ],
      "text/plain": [
       "   session_id              datetime_x    item_id\n",
       "0      263073 2014-04-01 03:05:31.743  214716982\n",
       "1      466654 2014-04-01 03:21:30.255  214820812\n",
       "2      466654 2014-04-01 03:21:30.271  214584907\n",
       "3      185089 2014-04-01 03:29:09.230  214819376\n",
       "4      185089 2014-04-01 03:29:09.280  214819430"
      ]
     },
     "execution_count": 86,
     "metadata": {},
     "output_type": "execute_result"
    }
   ],
   "source": [
    "buys_click_data_tran3.head()"
   ]
  },
  {
   "cell_type": "code",
   "execution_count": 87,
   "metadata": {},
   "outputs": [],
   "source": [
    "tran3_spath = path+'/data/buys_click_data_tran3.csv'\n",
    "buys_click_data_tran3.to_csv(tran3_spath, encoding='utf-8', index=False)"
   ]
  },
  {
   "cell_type": "markdown",
   "metadata": {},
   "source": [
    "# -------------------------------------------------------------"
   ]
  }
 ],
 "metadata": {
  "kernelspec": {
   "display_name": "Python 3",
   "language": "python",
   "name": "python3"
  },
  "language_info": {
   "codemirror_mode": {
    "name": "ipython",
    "version": 3
   },
   "file_extension": ".py",
   "mimetype": "text/x-python",
   "name": "python",
   "nbconvert_exporter": "python",
   "pygments_lexer": "ipython3",
   "version": "3.6.6"
  }
 },
 "nbformat": 4,
 "nbformat_minor": 2
}
